{
  "metadata": {
    "kernelspec": {
      "language": "python",
      "display_name": "Python 3",
      "name": "python3"
    },
    "language_info": {
      "name": "python",
      "version": "3.10.13",
      "mimetype": "text/x-python",
      "codemirror_mode": {
        "name": "ipython",
        "version": 3
      },
      "pygments_lexer": "ipython3",
      "nbconvert_exporter": "python",
      "file_extension": ".py"
    },
    "kaggle": {
      "accelerator": "none",
      "dataSources": [],
      "dockerImageVersionId": 30732,
      "isInternetEnabled": false,
      "language": "python",
      "sourceType": "notebook",
      "isGpuEnabled": false
    },
    "colab": {
      "provenance": [],
      "include_colab_link": true
    }
  },
  "nbformat_minor": 0,
  "nbformat": 4,
  "cells": [
    {
      "cell_type": "markdown",
      "metadata": {
        "id": "view-in-github",
        "colab_type": "text"
      },
      "source": [
        "<a href=\"https://colab.research.google.com/github/victorgeel/V2RayTool/blob/main/v2ray_panel.ipynb\" target=\"_parent\"><img src=\"https://colab.research.google.com/assets/colab-badge.svg\" alt=\"Open In Colab\"/></a>"
      ]
    },
    {
      "cell_type": "markdown",
      "source": [
        "**• Free V2RAY check nCloudflare Worker\n",
        "&\n",
        "others**\n",
        "\n",
        "****• ပထမအဆင့်မှာ repo ကို clone ပါ****"
      ],
      "metadata": {
        "editable": false,
        "id": "QPjDV-kzYvZs"
      }
    },
    {
      "cell_type": "code",
      "source": [
        "!git clone https://github.com/victorgeel/V2RayTool.git"
      ],
      "metadata": {
        "id": "wviCXzWczEId"
      },
      "execution_count": null,
      "outputs": []
    },
    {
      "cell_type": "code",
      "source": [
        "%cd /content/V2rayDoprax"
      ],
      "metadata": {
        "id": "vIkjr2VmbQkA"
      },
      "execution_count": null,
      "outputs": []
    },
    {
      "cell_type": "markdown",
      "source": [
        "**• လိုအပ်တဲ့ requirements များ ဒေါင်းယူပါ**"
      ],
      "metadata": {
        "editable": false,
        "id": "5xtcK7igYvZ5"
      }
    },
    {
      "cell_type": "code",
      "source": [
        "!pip install requests beautifulsoup4"
      ],
      "metadata": {
        "editable": false,
        "id": "I2hSEBaOYvZ6"
      },
      "execution_count": null,
      "outputs": []
    },
    {
      "cell_type": "markdown",
      "source": [
        "**• Scrips ကို executable ပေးပါမယ် ./ နဲ့ runဖို့**"
      ],
      "metadata": {
        "editable": false,
        "id": "Guk__AaEYvZ8"
      }
    },
    {
      "cell_type": "code",
      "source": [
        "!chmod +x *.py"
      ],
      "metadata": {
        "editable": false,
        "id": "PdOBtlzZYvZ9"
      },
      "execution_count": 6,
      "outputs": []
    },
    {
      "cell_type": "markdown",
      "source": [
        "**√ check_worker.py မိမိရဲ့ worker domain link\n",
        "ကိုစစ်မှာပါ**"
      ],
      "metadata": {
        "editable": false,
        "id": "pXdi8oUJYvaD"
      }
    },
    {
      "cell_type": "code",
      "source": [
        "!python check_worker.py https://example.workers.dev/\n",
        "\n",
        "#Where url looks like:အပေါ်က url မှာ\n",
        "#မိမိ link ထည့်ပါ နမူနာ👇\n",
        "#https://example.workers.dev"
      ],
      "metadata": {
        "editable": false,
        "id": "z129tWdtYvaF"
      },
      "execution_count": null,
      "outputs": []
    },
    {
      "cell_type": "markdown",
      "source": [
        "**√ getConfig.py V2RAY ရဲ့ config ကို ကြည့်မှာပါ**"
      ],
      "metadata": {
        "id": "8-76XE9ExCGd"
      }
    },
    {
      "cell_type": "code",
      "source": [
        "!python getConfig.py vmess://eyJhZGQiOiJ2aWN0b3JnZWVrLmdlZWs3OTQzNy5Xb3JrRXJzLkRlViIsImFpZCI6IjAiLCJhbHBuIjoiaDMsaDIsaHR0cC8xLjEiLCJmcCI6ImFuZHJvaWQiLCJob3N0IjoidmljdG9yZ2Vlay5nZWVrNzk0MzcuV09SS2VSUy5kZVYiLCJpZCI6IjA1NjQxY2Y1LTU4ZDItNGJhNC1hOWYxLWIzY2RhMGIxZmIxZCIsIm5ldCI6IndzIiwicGF0aCI6Ii9vYmRpaS5jZmQ6NDQzL2xpbmt3cyIsInBvcnQiOiI0NDMiLCJwcyI6IjQxLeeRnuWFuF8wNjIwMDgxMDktd29ya2VyIiwic2N5IjoiYXV0byIsInNuaSI6InZpY3RvcmdlZWsuZ2Vlazc5NDM3LldPUktlUlMuZGVWIiwidGxzIjoidGxzIiwidHlwZSI6IiIsInYiOiIyIn0="
      ],
      "metadata": {
        "id": "R9omFyCDfXzC"
      },
      "execution_count": null,
      "outputs": []
    },
    {
      "cell_type": "markdown",
      "source": [
        "**√ getIP.py √ Cloudflare Clean IP ရှာရန်**"
      ],
      "metadata": {
        "editable": false,
        "id": "dlmV0jPOYvaI"
      }
    },
    {
      "cell_type": "code",
      "source": [
        "!python getIP.py\n",
        "\n",
        "#နမူနာကြည့်ပါ👇\n",
        "\n",
        "#for only get IPs -> python getIP.py\n",
        "#for save the IPs -> python getIP.py -s"
      ],
      "metadata": {
        "editable": false,
        "id": "GIp-VD3kYvaJ"
      },
      "execution_count": null,
      "outputs": []
    },
    {
      "cell_type": "markdown",
      "source": [
        "\n",
        "\n",
        "**• getUUID.py √ UUID ယူရန်**"
      ],
      "metadata": {
        "editable": false,
        "id": "bKIiMtoEYvaK"
      }
    },
    {
      "cell_type": "code",
      "source": [
        "!python getUUID.py -v4\n",
        "\n",
        "#-v1 : get version 1 UUID\n",
        "#-v4 : get version 4 UUID\n",
        "\n",
        "# What is a Version 1 UUID?\n",
        "#A rsion 1 UUID is a universally unique identifier that\n",
        "#is generated using a timestamp and the MAC address of\n",
        "#the computer on which it was generated.\n",
        "\n",
        "#* What is a version 4 UUID?\n",
        "#A Version 4 UUID is a universally unique identifier that\n",
        "#is generated using random numbers.using a secure random\n",
        "#number generator."
      ],
      "metadata": {
        "execution": {
          "iopub.status.busy": "2024-06-19T13:11:03.520930Z",
          "iopub.execute_input": "2024-06-19T13:11:03.521324Z",
          "iopub.status.idle": "2024-06-19T13:11:03.532630Z",
          "shell.execute_reply.started": "2024-06-19T13:11:03.521295Z",
          "shell.execute_reply": "2024-06-19T13:11:03.530610Z"
        },
        "editable": false,
        "trusted": true,
        "id": "kFXdfw6CYvaL"
      },
      "execution_count": null,
      "outputs": []
    },
    {
      "cell_type": "markdown",
      "source": [
        "**• genUUID.py √ UUID generate လုပ်ရန်**"
      ],
      "metadata": {
        "editable": false,
        "id": "af0UbfrEYvaN"
      }
    },
    {
      "cell_type": "code",
      "source": [
        "!python genUUID.py -v4\n",
        "\n",
        "#အထက်က လိုပါပဲ V1 V4 ကြိုက်ရာထုတိ"
      ],
      "metadata": {
        "editable": false,
        "colab": {
          "base_uri": "https://localhost:8080/"
        },
        "id": "HikHtRjOYvaO",
        "outputId": "d8c9a26b-1a0c-4b28-fec6-48c546fa636c"
      },
      "execution_count": 9,
      "outputs": [
        {
          "output_type": "stream",
          "name": "stdout",
          "text": [
            "\u001b[2;34m* Generating UUID version 4 for you...\u001b[m\n",
            "Version4 UUID: \u001b[2;32m29D48E37-890E-4953-A7CD-D2582AE84828\u001b[m\n",
            "\n"
          ]
        }
      ]
    },
    {
      "cell_type": "markdown",
      "source": [
        "**√ freeV2ray.py V2RAY server ရယူရန်**"
      ],
      "metadata": {
        "editable": false,
        "id": "_XCBjoQXYvaZ"
      }
    },
    {
      "cell_type": "code",
      "source": [
        "# python freeV2ray.py [arguments]\n",
        "\n",
        "!python freeV2ray.py 20\n",
        "\n",
        "# (maximum length is 20)"
      ],
      "metadata": {
        "editable": false,
        "id": "3Qv4lKrJYvaa"
      },
      "execution_count": null,
      "outputs": []
    }
  ]
}
